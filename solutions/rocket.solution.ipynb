{
 "metadata": {
  "name": "",
  "signature": "sha256:63833d1a48be4e9170986d87963dbae63f41be93e14cbdb20c19c19c337d39e9"
 },
 "nbformat": 3,
 "nbformat_minor": 0,
 "worksheets": [
  {
   "cells": [
    {
     "cell_type": "markdown",
     "metadata": {},
     "source": [
      "$$\\frac{dz}{dt} = v$$\n",
      "$$(m_s+m_p) \\frac{dv}{dt} = -(m_s+m_p)g + \\dot{m}_pv_e - \\frac{1}{2}\\rho v|v|AC_D$$"
     ]
    },
    {
     "cell_type": "markdown",
     "metadata": {},
     "source": [
      "* $z$ is the vertical coordinate\n",
      "* $m_s$ = 50 kg, weight of rocket shell\n",
      "* $g$ = 9.81 m/s^2\n",
      "* $\\rho$ = 1.23 kg/m^3\n",
      "* $A$ = 0.1 m^2, maximum cross-sectional area\n",
      "* $v_e$ = 360 m/s, exhaust speed\n",
      "* $C_D$ = 0.15, drag coefficient\n",
      "* $m_{p0}$ = 100 kg at $t$ = 0\n",
      "\n",
      "$$m_p = m_{po} - \\int_0^{t} \\dot{m}_p d\\tau$$"
     ]
    },
    {
     "cell_type": "code",
     "collapsed": false,
     "input": [
      "import numpy\n",
      "from math import pi\n",
      "import matplotlib.pyplot as plt\n",
      "%matplotlib inline"
     ],
     "language": "python",
     "metadata": {},
     "outputs": [],
     "prompt_number": 1
    },
    {
     "cell_type": "code",
     "collapsed": false,
     "input": [
      "##physical constants\n",
      "g = 9.81\n",
      "ms = 50.\n",
      "mp0 = 100.\n",
      "#rho = (1.23 + .952)/2\n",
      "rho = 1.091\n",
      "A = 0.5**2*pi\n",
      "ve = 325.\n",
      "CD = 0.15\n",
      "\n",
      "#time stuff\n",
      "T = 100\n",
      "dt = 0.1\n",
      "N = int(T/dt)+1\n",
      "\n",
      "##burn rate calculation\n",
      "##\\dot{m}_p lasts 5 seconds, ramping from 0 to m_{po}/4 over 1 second,\n",
      "##maintaining peak velocity for 3 seconds, then ramping down to zero \n",
      "##over one second\n",
      "\n",
      "mdot = numpy.zeros(N)\n",
      "mdot[:int(1/dt)*5] = mp0/5\n"
     ],
     "language": "python",
     "metadata": {},
     "outputs": [],
     "prompt_number": 3
    },
    {
     "cell_type": "markdown",
     "metadata": {},
     "source": [
      "###Check $\\dot{m}_p$ burn rate"
     ]
    },
    {
     "cell_type": "code",
     "collapsed": false,
     "input": [
      "plt.plot(numpy.linspace(0,T,N),mdot)\n",
      "plt.xlim(0,10)\n",
      "plt.ylim(0,25);"
     ],
     "language": "python",
     "metadata": {},
     "outputs": [
      {
       "metadata": {},
       "output_type": "display_data",
       "png": "[encoded data removed]",
       "text": [
        "<matplotlib.figure.Figure at 0x7f34b9b75490>"
       ]
      }
     ],
     "prompt_number": 4
    },
    {
     "cell_type": "code",
     "collapsed": false,
     "input": [
      "mdot[0]"
     ],
     "language": "python",
     "metadata": {},
     "outputs": [
      {
       "metadata": {},
       "output_type": "pyout",
       "prompt_number": 5,
       "text": [
        "20.0"
       ]
      }
     ],
     "prompt_number": 5
    },
    {
     "cell_type": "markdown",
     "metadata": {},
     "source": [
      "##Discretization\n",
      "\n",
      "$$\\vec{u} = \\left( \\begin{matrix} z \\\\ v \\end{matrix} \\right)$$\n",
      "\n",
      "$$u' = f(\\vec{u}) = \\left( \\begin{matrix} v \\\\ -g + \\frac{\\dot{m}_pv_e-\\frac{1}{2}\\rho v | v | AC_D}{m_s+m_p}\\end{matrix}\\right)$$\n",
      "\n",
      "$$\\begin{align}\n",
      "z^{n+1} &= z^n + \\Delta t v^n\\\\\n",
      "v^{n+1} &= v^n + \\Delta t \\left( -g + \\frac{\\dot{m}_pv_e-\\frac{1}{2}\\rho v^n | v^n | AC_D}{m_s+m_p}\\right)\n",
      "\\end{align}$$"
     ]
    },
    {
     "cell_type": "code",
     "collapsed": false,
     "input": [
      "z0 = 0\n",
      "v0 = 0\n",
      "\n",
      "u = numpy.array([z0, v0])\n",
      "\n",
      "z = numpy.zeros(N)\n",
      "v = numpy.zeros(N)\n",
      "\n",
      "mp = mp0"
     ],
     "language": "python",
     "metadata": {},
     "outputs": [],
     "prompt_number": 6
    },
    {
     "cell_type": "code",
     "collapsed": false,
     "input": [
      "for i in range(N-1):\n",
      "    mp = mp0 - numpy.sum(mdot[:i]*dt)\n",
      "    u = u + dt * numpy.array([u[1], -g + (mdot[i]*ve-.5*rho*u[1]*abs(u[1])*A*CD)/(1.0*(ms+mp))])\n",
      "    z[i+1] = u[0]\n",
      "    v[i+1] = u[1]\n"
     ],
     "language": "python",
     "metadata": {},
     "outputs": [],
     "prompt_number": 7
    },
    {
     "cell_type": "code",
     "collapsed": false,
     "input": [
      "z_zero = numpy.where(z < 0)[0][0]"
     ],
     "language": "python",
     "metadata": {},
     "outputs": [],
     "prompt_number": 8
    },
    {
     "cell_type": "code",
     "collapsed": false,
     "input": [
      "t = numpy.linspace(0,T,N)\n",
      "plt.figure(figsize=(11,8))\n",
      "plt.subplot(211)\n",
      "plt.plot(t[:z_zero], z[:z_zero],'k-')\n",
      "plt.xlabel('Time (s)')\n",
      "plt.ylabel('Altitude (m)')\n",
      "plt.xlim(0, t[z_zero])\n",
      "plt.title('Rocket altitude vs. time')\n",
      "\n",
      "plt.subplot(212)\n",
      "plt.plot(t[:z_zero], v[:z_zero],'k-')\n",
      "plt.xlabel('Time (s)')\n",
      "plt.ylabel('Velocity (m/s)')\n",
      "plt.xlim(0, t[z_zero])\n",
      "plt.title('Rocket velocity vs. time');"
     ],
     "language": "python",
     "metadata": {},
     "outputs": [
      {
       "metadata": {},
       "output_type": "display_data",
       "png": "[encoded data removed]",
       "text": [
        "<matplotlib.figure.Figure at 0x7f34b9b1b210>"
       ]
      }
     ],
     "prompt_number": 9
    },
    {
     "cell_type": "markdown",
     "metadata": {},
     "source": [
      "##Maximum speed of the rocket and the time and height at which it occurs:"
     ]
    },
    {
     "cell_type": "code",
     "collapsed": false,
     "input": [
      "vmax = v[:z_zero].max()\n",
      "h_at_vmax = z[numpy.where(v == vmax)[0][0]]\n",
      "t_at_vmax = t[numpy.where(v == vmax)[0][0]]"
     ],
     "language": "python",
     "metadata": {},
     "outputs": [],
     "prompt_number": 10
    },
    {
     "cell_type": "code",
     "collapsed": false,
     "input": [
      "print 'Rocket reaches maximum speed of %.4f m/s after %.4f seconds of flight at an altitude of %.2f meters' % (vmax, t_at_vmax, h_at_vmax)"
     ],
     "language": "python",
     "metadata": {},
     "outputs": [
      {
       "output_type": "stream",
       "stream": "stdout",
       "text": [
        "Rocket reaches maximum speed of 232.1061 m/s after 5.0000 seconds of flight at an altitude of 523.52 meters\n"
       ]
      }
     ],
     "prompt_number": 11
    },
    {
     "cell_type": "markdown",
     "metadata": {},
     "source": [
      "##The maximum height the rocket can reach, and the time at which it occurs:\n"
     ]
    },
    {
     "cell_type": "code",
     "collapsed": false,
     "input": [
      "hmax = z[:z_zero].max()\n",
      "t_at_hmax = t[numpy.where(z == hmax)[0][0]]"
     ],
     "language": "python",
     "metadata": {},
     "outputs": [],
     "prompt_number": 12
    },
    {
     "cell_type": "code",
     "collapsed": false,
     "input": [
      "print 'Rocket reaches maximum height of %.4f meters after %.4f seconds of flight' % (hmax, t_at_hmax)"
     ],
     "language": "python",
     "metadata": {},
     "outputs": [
      {
       "output_type": "stream",
       "stream": "stdout",
       "text": [
        "Rocket reaches maximum height of 1334.1829 meters after 15.7000 seconds of flight\n"
       ]
      }
     ],
     "prompt_number": 13
    },
    {
     "cell_type": "markdown",
     "metadata": {},
     "source": [
      "##The time and velocity when the rocket hits the ground:"
     ]
    },
    {
     "cell_type": "code",
     "collapsed": false,
     "input": [
      "print 'Rocket hits the ground after %.4f seconds of flight at a velocity of %.4f m/s' % (t[z_zero], v[z_zero])"
     ],
     "language": "python",
     "metadata": {},
     "outputs": [
      {
       "output_type": "stream",
       "stream": "stdout",
       "text": [
        "Rocket hits the ground after 37.1000 seconds of flight at a velocity of -86.0068 m/s\n"
       ]
      }
     ],
     "prompt_number": 14
    },
    {
     "cell_type": "code",
     "collapsed": false,
     "input": [
      "print \"Mass burned at 3.2 seconds: %f\" % numpy.sum(mdot[:32]*dt)"
     ],
     "language": "python",
     "metadata": {},
     "outputs": [
      {
       "output_type": "stream",
       "stream": "stdout",
       "text": [
        "Mass burned at 3.2 seconds: 64.000000\n"
       ]
      }
     ],
     "prompt_number": 15
    },
    {
     "cell_type": "code",
     "collapsed": false,
     "input": [],
     "language": "python",
     "metadata": {},
     "outputs": []
    }
   ],
   "metadata": {}
  }
 ]
}